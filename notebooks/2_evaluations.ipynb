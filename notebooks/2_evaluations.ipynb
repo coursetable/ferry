{
 "cells": [
  {
   "cell_type": "code",
   "execution_count": 1,
   "metadata": {
    "ExecuteTime": {
     "end_time": "2019-10-14T20:44:10.881492Z",
     "start_time": "2019-10-14T20:44:10.724560Z"
    }
   },
   "outputs": [],
   "source": [
    "import requests\n",
    "from IPython.core.display import display, HTML\n"
   ]
  },
  {
   "cell_type": "code",
   "execution_count": 2,
   "metadata": {
    "ExecuteTime": {
     "end_time": "2019-10-14T20:44:12.632917Z",
     "start_time": "2019-10-14T20:44:12.629494Z"
    }
   },
   "outputs": [],
   "source": [
    "with open(\"../private/netid.txt\",\"r\") as f:\n",
    "    password = f.read()"
   ]
  },
  {
   "cell_type": "code",
   "execution_count": null,
   "metadata": {},
   "outputs": [],
   "source": [
    "netid=\"kh779\""
   ]
  },
  {
   "cell_type": "code",
   "execution_count": 11,
   "metadata": {
    "ExecuteTime": {
     "end_time": "2019-10-14T20:46:00.023026Z",
     "start_time": "2019-10-14T20:45:59.922055Z"
    }
   },
   "outputs": [
    {
     "name": "stdout",
     "output_type": "stream",
     "text": [
      "{}\n",
      "{'JSESSIONID': 'C2902CC806281F840A6059703E076678', 'CASTGC': 'TGT-581468-Xtw3XhubtvggRXWTfLczTog6cPksd6Fo05M7cyM6Ko94QjEgAY-vmcasprd01'}\n"
     ]
    }
   ],
   "source": [
    "session = requests.Session()\n",
    "print(session.cookies.get_dict())\n",
    "\n",
    "r = session.post(\"https://secure.its.yale.edu/cas/login?username=\"+netid+\"&password=\"+password)\n",
    "\n",
    "print(session.cookies.get_dict())"
   ]
  }
 ],
 "metadata": {
  "kernelspec": {
   "display_name": "Python 3",
   "language": "python",
   "name": "python3"
  },
  "language_info": {
   "codemirror_mode": {
    "name": "ipython",
    "version": 3
   },
   "file_extension": ".py",
   "mimetype": "text/x-python",
   "name": "python",
   "nbconvert_exporter": "python",
   "pygments_lexer": "ipython3",
   "version": "3.7.4"
  },
  "toc": {
   "base_numbering": 1,
   "nav_menu": {},
   "number_sections": true,
   "sideBar": true,
   "skip_h1_title": false,
   "title_cell": "Table of Contents",
   "title_sidebar": "Contents",
   "toc_cell": false,
   "toc_position": {},
   "toc_section_display": true,
   "toc_window_display": false
  }
 },
 "nbformat": 4,
 "nbformat_minor": 2
}
