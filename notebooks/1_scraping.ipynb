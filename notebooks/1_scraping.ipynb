{
 "cells": [
  {
   "cell_type": "code",
   "execution_count": 5,
   "metadata": {
    "ExecuteTime": {
     "end_time": "2019-10-04T17:04:09.179547Z",
     "start_time": "2019-10-04T17:04:09.024066Z"
    }
   },
   "outputs": [],
   "source": [
    "import requests\n",
    "import json\n",
    "from bs4 import BeautifulSoup\n",
    "import unidecode\n",
    "import re\n",
    "import dateutil\n",
    "import time\n",
    "from datetime import datetime\n",
    "import calendar\n"
   ]
  },
  {
   "cell_type": "code",
   "execution_count": 163,
   "metadata": {
    "ExecuteTime": {
     "end_time": "2019-10-04T01:40:49.797407Z",
     "start_time": "2019-10-04T01:40:43.647017Z"
    }
   },
   "outputs": [
    {
     "data": {
      "text/plain": [
       "{'key': '1',\n",
       " 'code': 'ACCT 270',\n",
       " 'title': 'Foundations of Accounting and Valuation',\n",
       " 'crn': '12603',\n",
       " 'no': '01',\n",
       " 'total': '1',\n",
       " 'schd': 'H',\n",
       " 'stat': 'A',\n",
       " 'isCancelled': '',\n",
       " 'meets': 'MW 8:45-10a',\n",
       " 'mpkey': '2260',\n",
       " 'instr': 'R. Antle',\n",
       " 'meetingTimes': '[{\"meet_day\":\"0\",\"start_time\":\"845\",\"end_time\":\"1000\"},{\"meet_day\":\"2\",\"start_time\":\"845\",\"end_time\":\"1000\"}]',\n",
       " 'start_date': '2018-08-29',\n",
       " 'end_date': '2018-12-19',\n",
       " 'srcdb': '201803'}"
      ]
     },
     "execution_count": 163,
     "metadata": {},
     "output_type": "execute_result"
    }
   ],
   "source": [
    "url = \"https://courses.yale.edu/api/?page=fose&route=search\"\n",
    "payload = {'other': {'srcdb': '201803'}, 'criteria': []}\n",
    "\n",
    "r = requests.post(url, data=json.dumps(payload))\n",
    "\n",
    "courses = json.loads(r.text)[\"results\"]\n",
    "\n",
    "courses[0]"
   ]
  },
  {
   "cell_type": "code",
   "execution_count": 167,
   "metadata": {
    "ExecuteTime": {
     "end_time": "2019-10-04T01:41:13.303067Z",
     "start_time": "2019-10-04T01:41:12.692911Z"
    }
   },
   "outputs": [],
   "source": [
    "course_infos = []\n",
    "\n",
    "for course in courses[:5]:\n",
    "    url = \"https://courses.yale.edu/api/?page=fose&route=details\"\n",
    "    payload = {\"group\":\"code:\" + course[\"code\"] + \"\",\n",
    "               \"key\":\"crn:\" + course[\"crn\"] + \"\",\n",
    "               \"srcdb\":\"\" + course[\"srcdb\"] + \"\",\n",
    "               \"matched\":\"crn:\" + course[\"crn\"] + \"\"}\n",
    "\n",
    "    r = requests.post(url, data=json.dumps(payload))\n",
    "    r = json.loads(r.text)\n",
    "    \n",
    "    course_infos.append(r)"
   ]
  },
  {
   "cell_type": "code",
   "execution_count": 168,
   "metadata": {
    "ExecuteTime": {
     "end_time": "2019-10-04T01:41:14.996041Z",
     "start_time": "2019-10-04T01:41:14.989124Z"
    }
   },
   "outputs": [
    {
     "data": {
      "text/plain": [
       "[{'key': '1',\n",
       "  'gmods': 'Y,1,A,Q,F,C,V,2,3,7,4,G,K,J,W,L,8,Z,5,H,M,6,N,9,D,B,X,I,P,R,O,U,S,T',\n",
       "  'col': 'YC',\n",
       "  'stat': 'A',\n",
       "  'mpkey': '2260',\n",
       "  'code': 'ACCT 270',\n",
       "  'section': '01',\n",
       "  'crn': '12603',\n",
       "  'title': 'Foundations of Accounting and Valuation',\n",
       "  'xlist': '',\n",
       "  'yc_attrs': '',\n",
       "  'ci_attrs': '',\n",
       "  'description': '<p>Modern accounting practices and their use in distinguishing value creation from value redistribution. Basic determinants of value and the techniques used to assess it; the creation of value through the production and delivery of goods or services; the conversion of that value into cash flows; basic financial statements, balance sheets, income statements, and cash flow statements, and the accounting mechanics with which they are built. Undergraduate enrollment limited to 50. Juniors and seniors only.</p>',\n",
       "  'hours': '1',\n",
       "  'regnotes': '',\n",
       "  'rp_attr': '',\n",
       "  'instructordetail_html': '<div class=\"instructor-detail\"><div class=\"instructor-name\"><a href=\"#\" data-action=\"search\" data-search-data-provider=\"search-by-instructor\" data-id=\"3787\">Rick Antle</a></div><div class=\"instructor-email\"><a href=\"mailto:rick.antle@yale.edu\">rick.antle@yale.edu</a></div></div>',\n",
       "  'meeting_html': '<div class=\"meet\">MW 8:45am-10am<span class=\"meet-room-201803\"> in <a href=\"https://map.yale.edu/place/building/EVANS?\" target=\"_blank\">EVANS 4200</a></span></div>',\n",
       "  'final_exam': 'Tuesday, December 18, 2018 at 7pm',\n",
       "  'resources': '<a href=\"#\" role=\"button\" class=\"btn\" id=\"course_eval_button\" data-crn=\"12603\" data-srcdb=\"201803\" data-action=\"login,course-evals\" >COURSE EVALUATIONS</a><a title=\"Opens in a new window.\" role=\"button\" class=\"btn\" href=\"https://yale.instructure.com/courses/38934/assignments/syllabus\" target=\"_blank\">SYLLABUS</a><form name=\"orderBooks\" class=\"book-form\" method=\"post\" action=\"https://secure.bncollege.com/webapp/wcs/stores/servlet/TBListView?cm_mmc=RI-_-999-_-1-_-A\" target=\"_blank\"><input type=\"hidden\" name=\"catalogId\" value=\"10001\" /><input type=\"hidden\" name=\"storeId\" value=\"16556\" /><input type=\"hidden\" name=\"termMapping\" value=\"N\" /><input type=\"hidden\" name=\"courseXml\" value=\\'<?xml version=\"1.0\" encoding=\"UTF-8\"?><textbookorder><courses><course dept=\"ACCT\" num=\"270\" sect=\"1\" term=\"F18\" /></courses></textbookorder>\\'/><input type=\"submit\" value=\"BUY BOOKS\" role=\"button\" class=\"btn\" ></form>',\n",
       "  'all_sections_remove_children': '<div class=\"course-sections\" role=\"grid\" aria-readonly=\"true\"><a role=\"row\" href=\"#\" class=\"course-section\" data-action=\"result-detail-remove-children\" data-group=\"code:ACCT 270\" data-srcdb=\"201803\" data-key=\"crn:12603\"><div role=\"rowheader\" class=\"course-section-section-no\"><span class=\"header-text\">Section no: </span> 01</div><div role=\"gridcell\" class=\"course-section-crn\"><span class=\"header-text\">CRN: </span> 12603</div><div role=\"gridcell\" class=\"course-section-mp\"><span class=\"header-text\">Meets: </span> MW 8:45-10a</div><div role=\"gridcell\" class=\"course-section-instr\"><span class=\"header-text\">Instructor: </span> R. Antle</div></a></div>',\n",
       "  'last_updated': 'Thu Oct 03 2019 20:15:38 GMT-0500 (CDT)',\n",
       "  'srcdb': '201803',\n",
       "  'allInGroup': [{'key': '1',\n",
       "    'code': 'ACCT 270',\n",
       "    'title': 'Foundations of Accounting and Valuation',\n",
       "    'crn': '12603',\n",
       "    'no': '01',\n",
       "    'total': '1',\n",
       "    'schd': 'H',\n",
       "    'stat': 'A',\n",
       "    'isCancelled': '',\n",
       "    'meets': 'MW 8:45-10a',\n",
       "    'mpkey': '2260',\n",
       "    'instr': 'R. Antle',\n",
       "    'meetingTimes': '[{\"meet_day\":\"0\",\"start_time\":\"845\",\"end_time\":\"1000\"},{\"meet_day\":\"2\",\"start_time\":\"845\",\"end_time\":\"1000\"}]',\n",
       "    'start_date': '2018-08-29',\n",
       "    'end_date': '2018-12-19',\n",
       "    'srcdb': '201803'}]},\n",
       " {'key': '2',\n",
       "  'gmods': 'Y,1,A,Q,F,C,V,2,3,7,4,G,K,J,W,L,8,Z,5,H,M,6,N,9,D,B,X,I,P,R,O,U,S,T,E',\n",
       "  'col': 'YC',\n",
       "  'stat': 'A',\n",
       "  'mpkey': '2021',\n",
       "  'code': 'AFAM 016',\n",
       "  'section': '01',\n",
       "  'crn': '13816',\n",
       "  'title': 'South African Writing after Apartheid',\n",
       "  'xlist': 'Same As: <a href=\"/search/?p=ENGL%20015\" data-action=\"result-detail\" data-group=\"code:ENGL 015\" data-key=\"crn:10939\">ENGL 015, section 01</a><br/>Same As: <a href=\"/search/?p=AFST%20015\" data-action=\"result-detail\" data-group=\"code:AFST 015\" data-key=\"crn:10940\">AFST 015, section 01</a>',\n",
       "  'yc_attrs': 'This course can be applied towards the following Yale College distributional requirements: <ul><li>Humanities and Arts</li><li>Writing</li></ul>',\n",
       "  'ci_attrs': '',\n",
       "  'description': '<p>An introduction to creative writing published in South Africa from the end of Apartheid in 1994 to the present. Close readings of contemporary fiction with additional material drawn from popular culture, including films, magazines, and music.</p>\\n<p class=\"prerequisites\">Enrollment limited to first-year students. Preregistration required; see under First-Year Seminar Program.</p>',\n",
       "  'hours': '1',\n",
       "  'regnotes': '',\n",
       "  'rp_attr': '',\n",
       "  'instructordetail_html': '<div class=\"instructor-detail\"><div class=\"instructor-name\"><a href=\"#\" data-action=\"search\" data-search-data-provider=\"search-by-instructor\" data-id=\"14576\">Stephanie Newell</a></div><div class=\"instructor-email\"><a href=\"mailto:stephanie.newell@yale.edu\">stephanie.newell@yale.edu</a></div></div>',\n",
       "  'meeting_html': '<div class=\"meet\">TTh 11:35am-12:50pm<span class=\"meet-room-201803\"> in <a href=\"https://map.yale.edu/place/building/LC?\" target=\"_blank\">LC 213</a></span></div>',\n",
       "  'final_exam': 'No regular final examination',\n",
       "  'resources': '<a href=\"#\" role=\"button\" class=\"btn\" id=\"course_eval_button\" data-crn=\"13816\" data-srcdb=\"201803\" data-action=\"login,course-evals\" >COURSE EVALUATIONS</a><a title=\"Opens in a new window.\" role=\"button\" class=\"btn\" href=\"https://yale.instructure.com/courses/39776/assignments/syllabus\" target=\"_blank\">SYLLABUS</a><form name=\"orderBooks\" class=\"book-form\" method=\"post\" action=\"https://secure.bncollege.com/webapp/wcs/stores/servlet/TBListView?cm_mmc=RI-_-999-_-1-_-A\" target=\"_blank\"><input type=\"hidden\" name=\"catalogId\" value=\"10001\" /><input type=\"hidden\" name=\"storeId\" value=\"16556\" /><input type=\"hidden\" name=\"termMapping\" value=\"N\" /><input type=\"hidden\" name=\"courseXml\" value=\\'<?xml version=\"1.0\" encoding=\"UTF-8\"?><textbookorder><courses><course dept=\"AFAM\" num=\"016\" sect=\"1\" term=\"F18\" /></courses></textbookorder>\\'/><input type=\"submit\" value=\"BUY BOOKS\" role=\"button\" class=\"btn\" ></form>',\n",
       "  'all_sections_remove_children': '<div class=\"course-sections\" role=\"grid\" aria-readonly=\"true\"><a role=\"row\" href=\"#\" class=\"course-section\" data-action=\"result-detail-remove-children\" data-group=\"code:AFAM 016\" data-srcdb=\"201803\" data-key=\"crn:13816\"><div role=\"rowheader\" class=\"course-section-section-no\"><span class=\"header-text\">Section no: </span> 01</div><div role=\"gridcell\" class=\"course-section-crn\"><span class=\"header-text\">CRN: </span> 13816</div><div role=\"gridcell\" class=\"course-section-mp\"><span class=\"header-text\">Meets: </span> TTh 11:35a-12:50p</div><div role=\"gridcell\" class=\"course-section-instr\"><span class=\"header-text\">Instructor: </span> S. Newell</div></a></div>',\n",
       "  'last_updated': 'Thu Oct 03 2019 20:15:38 GMT-0500 (CDT)',\n",
       "  'srcdb': '201803',\n",
       "  'allInGroup': [{'key': '2',\n",
       "    'code': 'AFAM 016',\n",
       "    'title': 'South African Writing after Apartheid',\n",
       "    'crn': '13816',\n",
       "    'no': '01',\n",
       "    'total': '1',\n",
       "    'schd': 'L',\n",
       "    'stat': 'A',\n",
       "    'isCancelled': '',\n",
       "    'meets': 'TTh 11:35a-12:50p',\n",
       "    'mpkey': '2021',\n",
       "    'instr': 'S. Newell',\n",
       "    'meetingTimes': '[{\"meet_day\":\"1\",\"start_time\":\"1135\",\"end_time\":\"1250\"},{\"meet_day\":\"3\",\"start_time\":\"1135\",\"end_time\":\"1250\"}]',\n",
       "    'start_date': '2018-08-29',\n",
       "    'end_date': '2018-12-19',\n",
       "    'srcdb': '201803'}]},\n",
       " {'key': '3',\n",
       "  'gmods': 'Y,1,A,Q,F,C,V,2,3,7,4,G,K,J,W,L,8,Z,5,H,M,6,N,9,D,B,X,I,P,R,O,U,S,T,E',\n",
       "  'col': 'YC',\n",
       "  'stat': 'A',\n",
       "  'mpkey': '2019',\n",
       "  'code': 'AFAM 160',\n",
       "  'section': '01',\n",
       "  'crn': '10391',\n",
       "  'title': 'The Rise and Fall of Atlantic Slavery',\n",
       "  'xlist': 'Same As: <a href=\"/search/?p=AFST%20184\" data-action=\"result-detail\" data-group=\"code:AFST 184\" data-key=\"crn:10392\">AFST 184, section 01</a><br/>Same As: <a href=\"/search/?p=AMST%20160\" data-action=\"result-detail\" data-group=\"code:AMST 160\" data-key=\"crn:10393\">AMST 160, section 01</a><br/>Same As: <a href=\"/search/?p=HIST%20184\" data-action=\"result-detail\" data-group=\"code:HIST 184\" data-key=\"crn:10394\">HIST 184, section 01</a>',\n",
       "  'yc_attrs': 'This course can be applied towards the <i>Humanities and Arts</i> Yale College distributional requirement.',\n",
       "  'ci_attrs': '',\n",
       "  'description': '<p>The history of peoples of African descent throughout the Americas, from the first African American societies of the sixteenth century through the century-long process of emancipation.</p>',\n",
       "  'hours': '1',\n",
       "  'regnotes': '',\n",
       "  'rp_attr': '',\n",
       "  'instructordetail_html': '<div class=\"instructor-detail\"><div class=\"instructor-name\"><a href=\"#\" data-action=\"search\" data-search-data-provider=\"search-by-instructor\" data-id=\"8006\">Edward Rugemer</a></div><div class=\"instructor-email\"><a href=\"mailto:edward.rugemer@yale.edu\">edward.rugemer@yale.edu</a></div></div>',\n",
       "  'meeting_html': '<div class=\"meet\">TTh 10:30am-11:20am<span class=\"meet-room-201803\"> in <a href=\"https://map.yale.edu/place/building/WLH?\" target=\"_blank\">WLH 207</a></span></div>\\n<div class=\"meet\">HTBA</div>',\n",
       "  'final_exam': 'Wednesday, December 19, 2018 at 2pm',\n",
       "  'resources': '<a href=\"#\" role=\"button\" class=\"btn\" id=\"course_eval_button\" data-crn=\"10391\" data-srcdb=\"201803\" data-action=\"login,course-evals\" >COURSE EVALUATIONS</a><a title=\"Opens in a new window.\" role=\"button\" class=\"btn\" href=\"https://yale.instructure.com/courses/38935/assignments/syllabus\" target=\"_blank\">SYLLABUS</a><form name=\"orderBooks\" class=\"book-form\" method=\"post\" action=\"https://secure.bncollege.com/webapp/wcs/stores/servlet/TBListView?cm_mmc=RI-_-999-_-1-_-A\" target=\"_blank\"><input type=\"hidden\" name=\"catalogId\" value=\"10001\" /><input type=\"hidden\" name=\"storeId\" value=\"16556\" /><input type=\"hidden\" name=\"termMapping\" value=\"N\" /><input type=\"hidden\" name=\"courseXml\" value=\\'<?xml version=\"1.0\" encoding=\"UTF-8\"?><textbookorder><courses><course dept=\"AFAM\" num=\"160\" sect=\"1\" term=\"F18\" /></courses></textbookorder>\\'/><input type=\"submit\" value=\"BUY BOOKS\" role=\"button\" class=\"btn\" ></form>',\n",
       "  'all_sections_remove_children': '<div class=\"course-sections\" role=\"grid\" aria-readonly=\"true\"><a role=\"row\" href=\"#\" class=\"course-section\" data-action=\"result-detail-remove-children\" data-group=\"code:AFAM 160\" data-srcdb=\"201803\" data-key=\"crn:10391\"><div role=\"rowheader\" class=\"course-section-section-no\"><span class=\"header-text\">Section no: </span> 01</div><div role=\"gridcell\" class=\"course-section-crn\"><span class=\"header-text\">CRN: </span> 10391</div><div role=\"gridcell\" class=\"course-section-mp\"><span class=\"header-text\">Meets: </span> TTh 10:30-11:20a</div><div role=\"gridcell\" class=\"course-section-instr\"><span class=\"header-text\">Instructor: </span> E. Rugemer</div></a></div>',\n",
       "  'last_updated': 'Thu Oct 03 2019 20:15:38 GMT-0500 (CDT)',\n",
       "  'srcdb': '201803',\n",
       "  'allInGroup': [{'key': '3',\n",
       "    'code': 'AFAM 160',\n",
       "    'title': 'The Rise and Fall of Atlantic Slavery',\n",
       "    'crn': '10391',\n",
       "    'no': '01',\n",
       "    'total': '1',\n",
       "    'schd': 'H',\n",
       "    'stat': 'A',\n",
       "    'isCancelled': '',\n",
       "    'meets': 'TTh 10:30-11:20a',\n",
       "    'mpkey': '2019',\n",
       "    'instr': 'E. Rugemer',\n",
       "    'meetingTimes': '[{\"meet_day\":\"1\",\"start_time\":\"1030\",\"end_time\":\"1120\"},{\"meet_day\":\"3\",\"start_time\":\"1030\",\"end_time\":\"1120\"}]',\n",
       "    'start_date': '2018-08-29',\n",
       "    'end_date': '2018-12-19',\n",
       "    'srcdb': '201803'}]},\n",
       " {'key': '4',\n",
       "  'gmods': 'Y,1,A,Q,F,C,V,2,3,7,4,G,K,J,W,L,8,Z,5,H,M,6,N,9,D,B,X,I,P,R,O,U,S,T,E',\n",
       "  'col': 'YC',\n",
       "  'stat': 'A',\n",
       "  'mpkey': '2059',\n",
       "  'code': 'AFAM 170',\n",
       "  'section': '01',\n",
       "  'crn': '13369',\n",
       "  'title': 'Sickness and Health in African American History',\n",
       "  'xlist': 'Same As: <a href=\"/search/?p=HSHM%20241\" data-action=\"result-detail\" data-group=\"code:HSHM 241\" data-key=\"crn:13370\">HSHM 241, section 01</a><br/>Same As: <a href=\"/search/?p=HIST%20479\" data-action=\"result-detail\" data-group=\"code:HIST 479\" data-key=\"crn:13371\">HIST 479, section 01</a>',\n",
       "  'yc_attrs': 'This course can be applied towards the <i>Humanities and Arts</i> Yale College distributional requirement.',\n",
       "  'ci_attrs': '',\n",
       "  'description': '<p>A history of American medicine through the African American experience covering the period of slavery through #BlackLivesMatter. Oriented around the complex dynamics of medical abuse and medical resistance, key themes include medicine and slavery; gender and reproduction; medical experimentation and ethics; the rise of racial science; lynching and vigilante violence; segregation and public health; African-descended approaches to health and healing; the rise of the African American medical profession; and black health activism from slavery to #BlackLivesMatter.</p>',\n",
       "  'hours': '1',\n",
       "  'regnotes': '',\n",
       "  'rp_attr': '',\n",
       "  'instructordetail_html': '<div class=\"instructor-detail\"><div class=\"instructor-name\"><a href=\"#\" data-action=\"search\" data-search-data-provider=\"search-by-instructor\" data-id=\"15824\">Carolyn Roberts</a></div><div class=\"instructor-email\"><a href=\"mailto:carolyn.roberts@yale.edu\">carolyn.roberts@yale.edu</a></div></div>',\n",
       "  'meeting_html': '<div class=\"meet\">MW 1:30pm-2:20pm<span class=\"meet-room-201803\"> in <a href=\"https://map.yale.edu/place/building/LC?\" target=\"_blank\">LC 211</a></span></div>\\n<div class=\"meet\">HTBA</div>',\n",
       "  'final_exam': 'Saturday, December 15, 2018 at 7pm',\n",
       "  'resources': '<a href=\"#\" role=\"button\" class=\"btn\" id=\"course_eval_button\" data-crn=\"13369\" data-srcdb=\"201803\" data-action=\"login,course-evals\" >COURSE EVALUATIONS</a><a title=\"Opens in a new window.\" role=\"button\" class=\"btn\" href=\"https://yale.instructure.com/courses/38936/assignments/syllabus\" target=\"_blank\">SYLLABUS</a><form name=\"orderBooks\" class=\"book-form\" method=\"post\" action=\"https://secure.bncollege.com/webapp/wcs/stores/servlet/TBListView?cm_mmc=RI-_-999-_-1-_-A\" target=\"_blank\"><input type=\"hidden\" name=\"catalogId\" value=\"10001\" /><input type=\"hidden\" name=\"storeId\" value=\"16556\" /><input type=\"hidden\" name=\"termMapping\" value=\"N\" /><input type=\"hidden\" name=\"courseXml\" value=\\'<?xml version=\"1.0\" encoding=\"UTF-8\"?><textbookorder><courses><course dept=\"AFAM\" num=\"170\" sect=\"1\" term=\"F18\" /></courses></textbookorder>\\'/><input type=\"submit\" value=\"BUY BOOKS\" role=\"button\" class=\"btn\" ></form>',\n",
       "  'all_sections_remove_children': '<div class=\"course-sections\" role=\"grid\" aria-readonly=\"true\"><a role=\"row\" href=\"#\" class=\"course-section\" data-action=\"result-detail-remove-children\" data-group=\"code:AFAM 170\" data-srcdb=\"201803\" data-key=\"crn:13369\"><div role=\"rowheader\" class=\"course-section-section-no\"><span class=\"header-text\">Section no: </span> 01</div><div role=\"gridcell\" class=\"course-section-crn\"><span class=\"header-text\">CRN: </span> 13369</div><div role=\"gridcell\" class=\"course-section-mp\"><span class=\"header-text\">Meets: </span> MW 1:30-2:20p</div><div role=\"gridcell\" class=\"course-section-instr\"><span class=\"header-text\">Instructor: </span> C. Roberts</div></a></div>',\n",
       "  'last_updated': 'Thu Oct 03 2019 20:15:38 GMT-0500 (CDT)',\n",
       "  'srcdb': '201803',\n",
       "  'allInGroup': [{'key': '4',\n",
       "    'code': 'AFAM 170',\n",
       "    'title': 'Sickness and Health in African American History',\n",
       "    'crn': '13369',\n",
       "    'no': '01',\n",
       "    'total': '1',\n",
       "    'schd': 'H',\n",
       "    'stat': 'A',\n",
       "    'isCancelled': '',\n",
       "    'meets': 'MW 1:30-2:20p',\n",
       "    'mpkey': '2059',\n",
       "    'instr': 'C. Roberts',\n",
       "    'meetingTimes': '[{\"meet_day\":\"0\",\"start_time\":\"1330\",\"end_time\":\"1420\"},{\"meet_day\":\"2\",\"start_time\":\"1330\",\"end_time\":\"1420\"}]',\n",
       "    'start_date': '2018-08-29',\n",
       "    'end_date': '2018-12-19',\n",
       "    'srcdb': '201803'}]},\n",
       " {'key': '5',\n",
       "  'gmods': 'Y,1,A,Q,F,C,V,2,3,7,4,G,K,J,W,L,8,Z,5,H,M,6,N,9,D,B,X,I,P,R,O,U,S,T',\n",
       "  'col': 'YC',\n",
       "  'stat': 'A',\n",
       "  'mpkey': '2076',\n",
       "  'code': 'AFAM 213',\n",
       "  'section': '01',\n",
       "  'crn': '11294',\n",
       "  'title': 'Medicine and Race in the Slave Trade',\n",
       "  'xlist': 'Same As: <a href=\"/search/?p=HSHM%20481\" data-action=\"result-detail\" data-group=\"code:HSHM 481\" data-key=\"crn:11293\">HSHM 481, section 01</a><br/>Same As: <a href=\"/search/?p=HIST%20383J\" data-action=\"result-detail\" data-group=\"code:HIST 383J\" data-key=\"crn:11295\">HIST 383J, section 01</a>',\n",
       "  'yc_attrs': 'This course can be applied towards the <i>Humanities and Arts</i> Yale College distributional requirement.',\n",
       "  'ci_attrs': '',\n",
       "  'description': '<p>Examination of the interconnected histories of medicine and race in the slave trade. Topics include the medical geography of the slave trade from slave prisons in West Africa to slave ships; slave trade drugs and forced drug consumption; mental and physical illnesses and their treatments; gender and the body; British and West African medicine and medical knowledge in the slave trade; eighteenth-century theories of racial difference and disease; medical violence and medical ethics.</p>',\n",
       "  'hours': '1',\n",
       "  'regnotes': '',\n",
       "  'rp_attr': '',\n",
       "  'instructordetail_html': '<div class=\"instructor-detail\"><div class=\"instructor-name\"><a href=\"#\" data-action=\"search\" data-search-data-provider=\"search-by-instructor\" data-id=\"15824\">Carolyn Roberts</a></div><div class=\"instructor-email\"><a href=\"mailto:carolyn.roberts@yale.edu\">carolyn.roberts@yale.edu</a></div></div>',\n",
       "  'meeting_html': '<div class=\"meet\">W 3:30pm-5:20pm<span class=\"meet-room-201803\"> in <a href=\"https://map.yale.edu/place/building/WALL81?\" target=\"_blank\">WALL81 201</a></span></div>',\n",
       "  'final_exam': 'No regular final examination',\n",
       "  'resources': '<a href=\"#\" role=\"button\" class=\"btn\" id=\"course_eval_button\" data-crn=\"11294\" data-srcdb=\"201803\" data-action=\"login,course-evals\" >COURSE EVALUATIONS</a><a title=\"Opens in a new window.\" role=\"button\" class=\"btn\" href=\"https://yale.instructure.com/courses/40305/assignments/syllabus\" target=\"_blank\">SYLLABUS</a><form name=\"orderBooks\" class=\"book-form\" method=\"post\" action=\"https://secure.bncollege.com/webapp/wcs/stores/servlet/TBListView?cm_mmc=RI-_-999-_-1-_-A\" target=\"_blank\"><input type=\"hidden\" name=\"catalogId\" value=\"10001\" /><input type=\"hidden\" name=\"storeId\" value=\"16556\" /><input type=\"hidden\" name=\"termMapping\" value=\"N\" /><input type=\"hidden\" name=\"courseXml\" value=\\'<?xml version=\"1.0\" encoding=\"UTF-8\"?><textbookorder><courses><course dept=\"AFAM\" num=\"213\" sect=\"1\" term=\"F18\" /></courses></textbookorder>\\'/><input type=\"submit\" value=\"BUY BOOKS\" role=\"button\" class=\"btn\" ></form>',\n",
       "  'all_sections_remove_children': '<div class=\"course-sections\" role=\"grid\" aria-readonly=\"true\"><a role=\"row\" href=\"#\" class=\"course-section\" data-action=\"result-detail-remove-children\" data-group=\"code:AFAM 213\" data-srcdb=\"201803\" data-key=\"crn:11294\"><div role=\"rowheader\" class=\"course-section-section-no\"><span class=\"header-text\">Section no: </span> 01</div><div role=\"gridcell\" class=\"course-section-crn\"><span class=\"header-text\">CRN: </span> 11294</div><div role=\"gridcell\" class=\"course-section-mp\"><span class=\"header-text\">Meets: </span> W 3:30-5:20p</div><div role=\"gridcell\" class=\"course-section-instr\"><span class=\"header-text\">Instructor: </span> C. Roberts</div></a></div>',\n",
       "  'last_updated': 'Thu Oct 03 2019 20:15:38 GMT-0500 (CDT)',\n",
       "  'srcdb': '201803',\n",
       "  'allInGroup': [{'key': '5',\n",
       "    'code': 'AFAM 213',\n",
       "    'title': 'Medicine and Race in the Slave Trade',\n",
       "    'crn': '11294',\n",
       "    'no': '01',\n",
       "    'total': '1',\n",
       "    'schd': 'L',\n",
       "    'stat': 'A',\n",
       "    'isCancelled': '',\n",
       "    'meets': 'W 3:30-5:20p',\n",
       "    'mpkey': '2076',\n",
       "    'instr': 'C. Roberts',\n",
       "    'meetingTimes': '[{\"meet_day\":\"2\",\"start_time\":\"1530\",\"end_time\":\"1720\"}]',\n",
       "    'start_date': '2018-08-29',\n",
       "    'end_date': '2018-12-19',\n",
       "    'srcdb': '201803'}]}]"
      ]
     },
     "execution_count": 168,
     "metadata": {},
     "output_type": "execute_result"
    }
   ],
   "source": [
    "course_infos"
   ]
  },
  {
   "cell_type": "code",
   "execution_count": 12,
   "metadata": {
    "ExecuteTime": {
     "end_time": "2019-10-03T21:23:51.949488Z",
     "start_time": "2019-10-03T21:23:51.945502Z"
    }
   },
   "outputs": [],
   "source": [
    "def professors_from_html(html):\n",
    "    soup = BeautifulSoup(html)\n",
    "    \n",
    "    matched_divs = soup.findAll(\"div\",{\"class\":\"instructor-name\"})\n",
    "    \n",
    "    names = []\n",
    "    \n",
    "    for div in matched_divs:\n",
    "        text = div.get_text()\n",
    "        \n",
    "        if \"mailto:\" not in text:\n",
    "            name = unidecode.unidecode(text)\n",
    "            \n",
    "            if len(name) > 0 and name != \"Staff\":\n",
    "                names.append(name)\n",
    "    \n",
    "    return names"
   ]
  },
  {
   "cell_type": "code",
   "execution_count": 159,
   "metadata": {
    "ExecuteTime": {
     "end_time": "2019-10-04T00:54:42.498482Z",
     "start_time": "2019-10-04T00:54:42.494851Z"
    }
   },
   "outputs": [
    {
     "data": {
      "text/plain": [
       "'AFAM 170'"
      ]
     },
     "execution_count": 159,
     "metadata": {},
     "output_type": "execute_result"
    }
   ],
   "source": [
    "course_json[\"code\"]"
   ]
  },
  {
   "cell_type": "code",
   "execution_count": 18,
   "metadata": {
    "ExecuteTime": {
     "end_time": "2019-10-03T21:29:16.551582Z",
     "start_time": "2019-10-03T21:29:16.547892Z"
    }
   },
   "outputs": [],
   "source": [
    "def course_codes_from_fields(code, xlist, section, crn):\n",
    "    primary_course_code = code.split(\" \")\n",
    "    \n",
    "    course_codes = [\n",
    "        {\"subject\": primary_course_code[0],\n",
    "         \"number\": primary_course_code[1]\n",
    "        }\n",
    "    ]\n",
    "        \n",
    "    return {\n",
    "        \"oci_id\": crn,\n",
    "        \"section\": int(section),\n",
    "        \"listings\": course_codes\n",
    "    }"
   ]
  },
  {
   "cell_type": "code",
   "execution_count": 25,
   "metadata": {
    "ExecuteTime": {
     "end_time": "2019-10-03T21:39:14.066762Z",
     "start_time": "2019-10-03T21:39:14.062731Z"
    }
   },
   "outputs": [],
   "source": [
    "def days_of_week_from_letters(letters):\n",
    "    \n",
    "    if letters == \"M-F\":\n",
    "        return ['Monday', 'Tuesday', 'Wednesday', 'Thursday', 'Friday']\n",
    "\n",
    "    days = []\n",
    "\n",
    "    letter_to_day = {\n",
    "        \"M\": \"Monday\",\n",
    "        \"(T[^h]|T$)\": \"Tuesday\",\n",
    "        \"W\": \"Wednesday\",\n",
    "        \"Th\": \"Thursday\",\n",
    "        \"F\": \"Friday\"\n",
    "    }\n",
    "    \n",
    "    letters = letters + \" \"\n",
    "    \n",
    "    for letter, day in letter_to_day.items():\n",
    "        if re.search(letter, letters):\n",
    "            days.append(day)\n",
    "            \n",
    "    return days"
   ]
  },
  {
   "cell_type": "code",
   "execution_count": 76,
   "metadata": {
    "ExecuteTime": {
     "end_time": "2019-10-04T00:17:16.820431Z",
     "start_time": "2019-10-04T00:17:16.816528Z"
    }
   },
   "outputs": [],
   "source": [
    "def time_of_day_float_from_string(string):\n",
    "    \n",
    "    matches = list(re.findall('([0-9]*):?([0-9]*)(am|pm)',string)[0])\n",
    "    \n",
    "    time = int(matches[0])\n",
    "    \n",
    "    if matches[2] == \"pm\" and time != 12:\n",
    "        time += 12\n",
    "        \n",
    "    if len(matches[1]) == 0:\n",
    "        matches[1] = \"0\"\n",
    "        \n",
    "    time += int(matches[1])/100\n",
    "    \n",
    "    return time"
   ]
  },
  {
   "cell_type": "code",
   "execution_count": 101,
   "metadata": {
    "ExecuteTime": {
     "end_time": "2019-10-04T00:24:04.643247Z",
     "start_time": "2019-10-04T00:24:04.636535Z"
    }
   },
   "outputs": [],
   "source": [
    "def course_times_from_fields(meeting_html, all_sections_remove_children):\n",
    "    \n",
    "    soup = BeautifulSoup(meeting_html,features=\"lxml\")\n",
    "    \n",
    "    meetings = soup.find_all(\"div\")\n",
    "    \n",
    "    found_htba = False\n",
    "        \n",
    "    htba_course_time = {\n",
    "        \"days\": [\"HTBA\"],\n",
    "        \"start_time\": \"1\",\n",
    "        \"end_time\": \"1\",\n",
    "        \"location\": \"\"\n",
    "    }\n",
    "    \n",
    "    matched_meetings = []\n",
    "        \n",
    "    for meeting in meetings:\n",
    "        meeting_text = \"\".join(meeting.find_all(text=True))\n",
    "        \n",
    "        if len(meeting_text) == 0:\n",
    "            pass\n",
    "        \n",
    "        if \"HTBA\" in meeting_text:\n",
    "            \n",
    "            matched_meetings.append(htba_course_time)\n",
    "            \n",
    "            found_htba = True\n",
    "            \n",
    "        else:\n",
    "            meeting_parts = meeting_text.split(\" \")\n",
    "            \n",
    "            days = days_of_week_from_letters(meeting_parts[0])\n",
    "            \n",
    "            times = meeting_parts[1].split(\"-\")\n",
    "            start  = time_of_day_float_from_string(times[0])\n",
    "            end = time_of_day_float_from_string(times[1])\n",
    "            \n",
    "            location_matches = re.findall(' in ([^<]*)',meeting_text)\n",
    "\n",
    "            if len(location_matches) > 0:\n",
    "                location = location_matches[0]\n",
    "            else:\n",
    "                location = ''\n",
    "\n",
    "            matched_meetings.append({\n",
    "                \"days\": days,\n",
    "                \"start_time\": start,\n",
    "                \"end_time\": end,\n",
    "                \"location\": location\n",
    "            })\n",
    "    \n",
    "    if not found_htba and len(matched_meetings) == 0 and \"HTBA\" in all_sections_remove_children:\n",
    "        matched_meetings.append(htba_course_time)\n",
    "        \n",
    "    return matched_meetings"
   ]
  },
  {
   "cell_type": "code",
   "execution_count": 107,
   "metadata": {
    "ExecuteTime": {
     "end_time": "2019-10-04T00:26:16.351978Z",
     "start_time": "2019-10-04T00:26:16.348924Z"
    }
   },
   "outputs": [],
   "source": [
    "skills_map = {\n",
    "    'Writing': 'WR',\n",
    "    'Quantitative Reasoning': 'QR',\n",
    "    'Language (1)': 'L1',\n",
    "    'Language (2)': 'L2',\n",
    "    'Language (3)': 'L3',\n",
    "    'Language (4)': 'L4',\n",
    "    'Language (5)': 'L5'\n",
    "}\n",
    "\n",
    "areas_map = {\n",
    "    'Humanities': 'Hu',\n",
    "    'Social Sciences': 'So',\n",
    "    '>Sciences': 'Sc',\n",
    "}\n"
   ]
  },
  {
   "cell_type": "code",
   "execution_count": 109,
   "metadata": {
    "ExecuteTime": {
     "end_time": "2019-10-04T00:27:30.427351Z",
     "start_time": "2019-10-04T00:27:30.424548Z"
    }
   },
   "outputs": [],
   "source": [
    "def found_items(text, mapping):\n",
    "    \n",
    "    items = []\n",
    "    \n",
    "    for search_text, code in mapping.items():\n",
    "        if search_text in text:\n",
    "            items.append(code)\n",
    "            \n",
    "    return items"
   ]
  },
  {
   "cell_type": "code",
   "execution_count": 1,
   "metadata": {
    "ExecuteTime": {
     "end_time": "2019-10-04T14:51:33.385688Z",
     "start_time": "2019-10-04T14:51:33.383351Z"
    }
   },
   "outputs": [],
   "source": [
    "import dateutil\n"
   ]
  },
  {
   "cell_type": "code",
   "execution_count": 3,
   "metadata": {
    "ExecuteTime": {
     "end_time": "2019-10-04T14:51:55.670592Z",
     "start_time": "2019-10-04T14:51:55.658266Z"
    }
   },
   "outputs": [
    {
     "data": {
      "text/plain": [
       "datetime.datetime(2019, 9, 7, 0, 0)"
      ]
     },
     "execution_count": 3,
     "metadata": {},
     "output_type": "execute_result"
    }
   ],
   "source": [
    "dateutil.parser.parse(\"September 7 2019\")"
   ]
  },
  {
   "cell_type": "code",
   "execution_count": 144,
   "metadata": {
    "ExecuteTime": {
     "end_time": "2019-10-04T00:45:57.608400Z",
     "start_time": "2019-10-04T00:45:57.603144Z"
    }
   },
   "outputs": [],
   "source": [
    "def exam_from_field(final_exam):\n",
    "    \n",
    "    no_final = \"No regular final examination\" in final_exam\n",
    "    \n",
    "    if len(final_exam) == 0 or no_final:\n",
    "        return {\n",
    "            'group': 0,\n",
    "            'date': '1000-01-01',\n",
    "            'day_of_week': '',\n",
    "            'time': 0.0\n",
    "        }\n",
    "    \n",
    "    if \"HTBA\" in final_exam:\n",
    "        return {\n",
    "            'group': 1,\n",
    "            'date': '1000-01-01',\n",
    "            'day_of_week': '',\n",
    "            'time': 0.0\n",
    "        }\n",
    "    \n",
    "    split_date_time = final_exam.split(\" at \")\n",
    "    \n",
    "    date = dateutil.parser.parse(split_date_time[0])\n",
    "    date_unix = int(time.mktime(date.timetuple()))\n",
    "    date_unix = datetime.fromtimestamp(date_unix)\n",
    "    \n",
    "    time_float = time_of_day_float_from_string(split_date_time[1])\n",
    "        \n",
    "    return {\n",
    "            'group': 2,\n",
    "            'date': date_unix.strftime('%Y-%m-%d'),\n",
    "            'day_of_week': calendar.day_name[date_unix.weekday()],\n",
    "            'time': time_float\n",
    "        }"
   ]
  },
  {
   "cell_type": "code",
   "execution_count": 145,
   "metadata": {
    "ExecuteTime": {
     "end_time": "2019-10-04T00:45:58.318966Z",
     "start_time": "2019-10-04T00:45:58.314948Z"
    }
   },
   "outputs": [
    {
     "data": {
      "text/plain": [
       "{'group': 2, 'date': '2018-12-15', 'day_of_week': 'Saturday', 'time': 19.0}"
      ]
     },
     "execution_count": 145,
     "metadata": {},
     "output_type": "execute_result"
    }
   ],
   "source": [
    "course_json = course_infos[3]\n",
    "\n",
    "exam_from_field(course_json[\"final_exam\"])"
   ]
  },
  {
   "cell_type": "code",
   "execution_count": 165,
   "metadata": {
    "ExecuteTime": {
     "end_time": "2019-10-04T01:41:01.839575Z",
     "start_time": "2019-10-04T01:41:01.829465Z"
    }
   },
   "outputs": [],
   "source": [
    "def extract_course_info(course_json):\n",
    "    \n",
    "    course_info = {}\n",
    "    \n",
    "    raw_description = BeautifulSoup(course_json[\"description\"])\n",
    "    \n",
    "    description = raw_description.find('p')\n",
    "    \n",
    "    if len(description) > 0:\n",
    "        course_info[\"description\"] = description.get_text()\n",
    "    else:\n",
    "        course_info[\"description\"] = \"\"\n",
    "        \n",
    "    prereqs = raw_description.findAll(\"p\", {\"class\" : \"prerequisites\"})\n",
    "    \n",
    "    if len(prereqs) == 1:\n",
    "        course_info[\"requirements\"] = prereqs[-1].get_text()\n",
    "    else:\n",
    "        course_info[\"requirements\"] = \"\"\n",
    "        \n",
    "    if course_json[\"hours\"] != \"1\" and course_json[\"hours\"] != \"\":\n",
    "        course_info[\"description\"] += \"\\n\\n\" + course_json[\"hours\"] + \" Yale College course credits\"\n",
    "        \n",
    "    if len(course_json[\"title\"]) > 32:\n",
    "        course_info[\"title\"] = course_json[\"title\"][:30] + \"...\"\n",
    "    else:\n",
    "        course_info[\"title\"] = course_json[\"title\"]\n",
    "        \n",
    "    course_info[\"long_title\"] = course_json[\"title\"]\n",
    "    \n",
    "    course_info[\"extra_info\"] = course_json[\"stat\"]\n",
    "    \n",
    "    if course_info[\"extra_info\"] == \"C\":\n",
    "        course_info[\"title\"] = \"CANCELLED\"\n",
    "    elif course_info[\"extra_info\"] == \"F\":\n",
    "        course_info[\"title\"] = \"FULL:\" + course_info[\"title\"]\n",
    "        \n",
    "    course_info[\"professors\"] = professors_from_html(course_json[\"instructordetail_html\"])\n",
    "    \n",
    "    course_info[\"course_codes\"] = course_codes_from_fields(\n",
    "        course_json[\"code\"],\n",
    "        course_json[\"xlist\"],\n",
    "        course_json[\"section\"],\n",
    "        course_json[\"crn\"]\n",
    "    )\n",
    "    \n",
    "    course_info[\"sessions\"] = course_times_from_fields(\n",
    "        course_json[\"meeting_html\"],\n",
    "        course_json[\"all_sections_remove_children\"]\n",
    "    )\n",
    "    \n",
    "    course_info[\"skills\"] = found_items(course_json[\"yc_attrs\"], \n",
    "                                        skills_map)\n",
    "    course_info[\"areas\"] = found_items(course_json[\"yc_attrs\"], \n",
    "                                       areas_map)\n",
    "    \n",
    "    course_info[\"exam\"] = exam_from_field(course_json[\"final_exam\"])\n",
    "    \n",
    "    course_info[\"extra_flags\"] = []\n",
    "    \n",
    "    if len(course_json[\"ci_attrs\"]) > 0:\n",
    "        course_info[\"extra_flags\"].append(course_json[\"ci_attrs\"])\n",
    "        \n",
    "    matched_homepage = re.findall('href=\"([^\"]*)\"[^>]*>HOMEPAGE</a>',course_json[\"resources\"])\n",
    "    \n",
    "    if len(matched_homepage) > 0:\n",
    "        course_info[\"course_home_url\"] = matched_homepage[0]\n",
    "        \n",
    "    matched_syllabus = re.findall('href=\"([^\"]*)\"[^>]*>SYLLABUS</a>',course_json[\"resources\"])\n",
    "        \n",
    "    if len(matched_syllabus) > 0:\n",
    "        course_info[\"syllabus_url\"] = matched_syllabus[0]\n",
    "        \n",
    "    return course_info"
   ]
  },
  {
   "cell_type": "code",
   "execution_count": 166,
   "metadata": {
    "ExecuteTime": {
     "end_time": "2019-10-04T01:41:03.117224Z",
     "start_time": "2019-10-04T01:41:03.061230Z"
    }
   },
   "outputs": [
    {
     "data": {
      "text/plain": [
       "[{'description': 'Modern accounting practices and their use in distinguishing value creation from value redistribution. Basic determinants of value and the techniques used to assess it; the creation of value through the production and delivery of goods or services; the conversion of that value into cash flows; basic financial statements, balance sheets, income statements, and cash flow statements, and the accounting mechanics with which they are built. Undergraduate enrollment limited to 50. Juniors and seniors only.',\n",
       "  'requirements': '',\n",
       "  'title': 'Foundations of Accounting and ...',\n",
       "  'long_title': 'Foundations of Accounting and Valuation',\n",
       "  'extra_info': 'A',\n",
       "  'professors': ['Rick Antle'],\n",
       "  'course_codes': {'oci_id': '12603',\n",
       "   'section': 1,\n",
       "   'listings': [{'subject': 'ACCT', 'number': '270'}]},\n",
       "  'sessions': [{'days': ['Monday', 'Wednesday'],\n",
       "    'start_time': 8.45,\n",
       "    'end_time': 10.0,\n",
       "    'location': 'EVANS 4200'}],\n",
       "  'skills': [],\n",
       "  'areas': [],\n",
       "  'exam': {'group': 2,\n",
       "   'date': '2018-12-18',\n",
       "   'day_of_week': 'Tuesday',\n",
       "   'time': 19.0},\n",
       "  'extra_flags': [],\n",
       "  'syllabus_url': 'https://yale.instructure.com/courses/38934/assignments/syllabus'},\n",
       " {'description': 'An introduction to creative writing published in South Africa from the end of Apartheid in 1994 to the present. Close readings of contemporary fiction with additional material drawn from popular culture, including films, magazines, and music.',\n",
       "  'requirements': 'Enrollment limited to first-year students. Preregistration required; see under First-Year Seminar Program.',\n",
       "  'title': 'South African Writing after Ap...',\n",
       "  'long_title': 'South African Writing after Apartheid',\n",
       "  'extra_info': 'A',\n",
       "  'professors': ['Stephanie Newell'],\n",
       "  'course_codes': {'oci_id': '13816',\n",
       "   'section': 1,\n",
       "   'listings': [{'subject': 'AFAM', 'number': '016'}]},\n",
       "  'sessions': [{'days': ['Tuesday', 'Thursday'],\n",
       "    'start_time': 11.35,\n",
       "    'end_time': 12.5,\n",
       "    'location': 'LC 213'}],\n",
       "  'skills': ['WR'],\n",
       "  'areas': ['Hu'],\n",
       "  'exam': {'group': 0, 'date': '1000-01-01', 'day_of_week': '', 'time': 0.0},\n",
       "  'extra_flags': [],\n",
       "  'syllabus_url': 'https://yale.instructure.com/courses/39776/assignments/syllabus'},\n",
       " {'description': 'The history of peoples of African descent throughout the Americas, from the first African American societies of the sixteenth century through the century-long process of emancipation.',\n",
       "  'requirements': '',\n",
       "  'title': 'The Rise and Fall of Atlantic ...',\n",
       "  'long_title': 'The Rise and Fall of Atlantic Slavery',\n",
       "  'extra_info': 'A',\n",
       "  'professors': ['Edward Rugemer'],\n",
       "  'course_codes': {'oci_id': '10391',\n",
       "   'section': 1,\n",
       "   'listings': [{'subject': 'AFAM', 'number': '160'}]},\n",
       "  'sessions': [{'days': ['Tuesday', 'Thursday'],\n",
       "    'start_time': 10.3,\n",
       "    'end_time': 11.2,\n",
       "    'location': 'WLH 207'},\n",
       "   {'days': ['HTBA'], 'start_time': '1', 'end_time': '1', 'location': ''}],\n",
       "  'skills': [],\n",
       "  'areas': ['Hu'],\n",
       "  'exam': {'group': 2,\n",
       "   'date': '2018-12-19',\n",
       "   'day_of_week': 'Wednesday',\n",
       "   'time': 14.0},\n",
       "  'extra_flags': [],\n",
       "  'syllabus_url': 'https://yale.instructure.com/courses/38935/assignments/syllabus'},\n",
       " {'description': 'A history of American medicine through the African American experience covering the period of slavery through #BlackLivesMatter. Oriented around the complex dynamics of medical abuse and medical resistance, key themes include medicine and slavery; gender and reproduction; medical experimentation and ethics; the rise of racial science; lynching and vigilante violence; segregation and public health; African-descended approaches to health and healing; the rise of the African American medical profession; and black health activism from slavery to #BlackLivesMatter.',\n",
       "  'requirements': '',\n",
       "  'title': 'Sickness and Health in African...',\n",
       "  'long_title': 'Sickness and Health in African American History',\n",
       "  'extra_info': 'A',\n",
       "  'professors': ['Carolyn Roberts'],\n",
       "  'course_codes': {'oci_id': '13369',\n",
       "   'section': 1,\n",
       "   'listings': [{'subject': 'AFAM', 'number': '170'}]},\n",
       "  'sessions': [{'days': ['Monday', 'Wednesday'],\n",
       "    'start_time': 13.3,\n",
       "    'end_time': 14.2,\n",
       "    'location': 'LC 211'},\n",
       "   {'days': ['HTBA'], 'start_time': '1', 'end_time': '1', 'location': ''}],\n",
       "  'skills': [],\n",
       "  'areas': ['Hu'],\n",
       "  'exam': {'group': 2,\n",
       "   'date': '2018-12-15',\n",
       "   'day_of_week': 'Saturday',\n",
       "   'time': 19.0},\n",
       "  'extra_flags': [],\n",
       "  'syllabus_url': 'https://yale.instructure.com/courses/38936/assignments/syllabus'},\n",
       " {'description': 'Examination of the interconnected histories of medicine and race in the slave trade. Topics include the medical geography of the slave trade from slave prisons in West Africa to slave ships; slave trade drugs and forced drug consumption; mental and physical illnesses and their treatments; gender and the body; British and West African medicine and medical knowledge in the slave trade; eighteenth-century theories of racial difference and disease; medical violence and medical ethics.',\n",
       "  'requirements': '',\n",
       "  'title': 'Medicine and Race in the Slave...',\n",
       "  'long_title': 'Medicine and Race in the Slave Trade',\n",
       "  'extra_info': 'A',\n",
       "  'professors': ['Carolyn Roberts'],\n",
       "  'course_codes': {'oci_id': '11294',\n",
       "   'section': 1,\n",
       "   'listings': [{'subject': 'AFAM', 'number': '213'}]},\n",
       "  'sessions': [{'days': ['Wednesday'],\n",
       "    'start_time': 15.3,\n",
       "    'end_time': 17.2,\n",
       "    'location': 'WALL81 201'}],\n",
       "  'skills': [],\n",
       "  'areas': ['Hu'],\n",
       "  'exam': {'group': 0, 'date': '1000-01-01', 'day_of_week': '', 'time': 0.0},\n",
       "  'extra_flags': [],\n",
       "  'syllabus_url': 'https://yale.instructure.com/courses/40305/assignments/syllabus'}]"
      ]
     },
     "execution_count": 166,
     "metadata": {},
     "output_type": "execute_result"
    }
   ],
   "source": [
    "[extract_course_info(x) for x in course_infos]\n"
   ]
  },
  {
   "cell_type": "code",
   "execution_count": 160,
   "metadata": {
    "ExecuteTime": {
     "end_time": "2019-10-04T01:10:18.695935Z",
     "start_time": "2019-10-04T01:10:18.692836Z"
    }
   },
   "outputs": [
    {
     "data": {
      "text/plain": [
       "'A'"
      ]
     },
     "execution_count": 160,
     "metadata": {},
     "output_type": "execute_result"
    }
   ],
   "source": [
    "course_json[\"stat\"]"
   ]
  }
 ],
 "metadata": {
  "kernelspec": {
   "display_name": "Python 3",
   "language": "python",
   "name": "python3"
  },
  "language_info": {
   "codemirror_mode": {
    "name": "ipython",
    "version": 3
   },
   "file_extension": ".py",
   "mimetype": "text/x-python",
   "name": "python",
   "nbconvert_exporter": "python",
   "pygments_lexer": "ipython3",
   "version": "3.7.4"
  },
  "toc": {
   "base_numbering": 1,
   "nav_menu": {},
   "number_sections": true,
   "sideBar": true,
   "skip_h1_title": false,
   "title_cell": "Table of Contents",
   "title_sidebar": "Contents",
   "toc_cell": false,
   "toc_position": {},
   "toc_section_display": true,
   "toc_window_display": false
  }
 },
 "nbformat": 4,
 "nbformat_minor": 2
}
